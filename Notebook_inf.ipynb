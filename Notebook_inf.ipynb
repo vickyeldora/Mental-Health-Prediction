{
 "cells": [
  {
   "cell_type": "markdown",
   "metadata": {},
   "source": [
    "# Model inference\n"
   ]
  },
  {
   "cell_type": "markdown",
   "metadata": {},
   "source": [
    "## Introduction"
   ]
  },
  {
   "cell_type": "markdown",
   "metadata": {},
   "source": [
    "Name               : Vicky Eldora Wuisan  \n",
    "\n",
    "In today's world, mental health issues are gaining widespread global attention due to their extensive and often imperceptible impacts. Numerous studies have highlighted that poor mental health can profoundly affect an individual's overall quality of life, encompassing both personal and professional domains.\n",
    "\n",
    "Discussing the importance of recognizing whether someone needs mental health care becomes crucial because it can help prevent various more serious problems, such as suicide or crime. Suicide and crime resulting from mental health disorders are alarming phenomena __[source](https://www.jawapos.com/kesehatan/01423686/kriminalitas-kerap-dipicu-masalah-kesehatan-mental-ini-kata-psikiater)__. Proper data and analysis can help identify risk factors and warning signs that may arise, enabling timely intervention measures to be taken.\n",
    "\n",
    "\n",
    ">Objective          :\n",
    "\n",
    "The primary objective of this project is to develop a classification model aimed at predicting care options based on the provided dataset. The methodology involves constructing classification models utilizing five distinct algorithms: K-Nearest Neighbors (KNN), Support Vector Classifier (SVC), Random Forest, AdaBoost, and Decision Tree. Evaluation of these models will be conducted using the recall metric to ascertain the most effective model, subsequently facilitating its deployment for predictive purposes."
   ]
  },
  {
   "cell_type": "markdown",
   "metadata": {},
   "source": [
    "## Import Libraries"
   ]
  },
  {
   "cell_type": "code",
   "execution_count": 1,
   "metadata": {},
   "outputs": [],
   "source": [
    "# import library\n",
    "import pandas as pd\n",
    "import numpy as np\n",
    "import pickle\n",
    "# Suppress warnings\n",
    "import warnings\n",
    "warnings.filterwarnings(\"ignore\")"
   ]
  },
  {
   "cell_type": "markdown",
   "metadata": {},
   "source": [
    "## Load data"
   ]
  },
  {
   "cell_type": "code",
   "execution_count": 2,
   "metadata": {},
   "outputs": [],
   "source": [
    "# load the files\n",
    "with open('best_model.pkl','rb') as file_1: # rb = read binary\n",
    "    model_lin = pickle.load(file_1)"
   ]
  },
  {
   "cell_type": "markdown",
   "metadata": {},
   "source": [
    "## Load data for inference"
   ]
  },
  {
   "cell_type": "code",
   "execution_count": 3,
   "metadata": {},
   "outputs": [
    {
     "data": {
      "text/html": [
       "<div>\n",
       "<style scoped>\n",
       "    .dataframe tbody tr th:only-of-type {\n",
       "        vertical-align: middle;\n",
       "    }\n",
       "\n",
       "    .dataframe tbody tr th {\n",
       "        vertical-align: top;\n",
       "    }\n",
       "\n",
       "    .dataframe thead th {\n",
       "        text-align: right;\n",
       "    }\n",
       "</style>\n",
       "<table border=\"1\" class=\"dataframe\">\n",
       "  <thead>\n",
       "    <tr style=\"text-align: right;\">\n",
       "      <th></th>\n",
       "      <th>Timestamp</th>\n",
       "      <th>Age</th>\n",
       "      <th>income</th>\n",
       "      <th>sleep duration</th>\n",
       "      <th>Gender</th>\n",
       "      <th>Country</th>\n",
       "      <th>Occupation</th>\n",
       "      <th>self_employed</th>\n",
       "      <th>family_history</th>\n",
       "      <th>treatment</th>\n",
       "      <th>Days_Indoors</th>\n",
       "      <th>Growing_Stress</th>\n",
       "      <th>Changes_Habits</th>\n",
       "      <th>Mental_Health_History</th>\n",
       "      <th>Mood_Swings</th>\n",
       "      <th>Coping_Struggles</th>\n",
       "      <th>Work_Interest</th>\n",
       "      <th>Social_Weakness</th>\n",
       "      <th>mental_health_interviews</th>\n",
       "    </tr>\n",
       "  </thead>\n",
       "  <tbody>\n",
       "    <tr>\n",
       "      <th>0</th>\n",
       "      <td>8/27/2014 14:45</td>\n",
       "      <td>22</td>\n",
       "      <td>4906197</td>\n",
       "      <td>13</td>\n",
       "      <td>Male</td>\n",
       "      <td>India</td>\n",
       "      <td>Business</td>\n",
       "      <td>Yes</td>\n",
       "      <td>No</td>\n",
       "      <td>No</td>\n",
       "      <td>Go out Every day</td>\n",
       "      <td>No</td>\n",
       "      <td>Yes</td>\n",
       "      <td>Yes</td>\n",
       "      <td>Low</td>\n",
       "      <td>Yes</td>\n",
       "      <td>Maybe</td>\n",
       "      <td>Maybe</td>\n",
       "      <td>No</td>\n",
       "    </tr>\n",
       "  </tbody>\n",
       "</table>\n",
       "</div>"
      ],
      "text/plain": [
       "         Timestamp  Age   income  sleep duration Gender Country Occupation  \\\n",
       "0  8/27/2014 14:45   22  4906197              13   Male   India   Business   \n",
       "\n",
       "  self_employed family_history treatment      Days_Indoors Growing_Stress  \\\n",
       "0           Yes             No        No  Go out Every day             No   \n",
       "\n",
       "  Changes_Habits Mental_Health_History Mood_Swings Coping_Struggles  \\\n",
       "0            Yes                   Yes         Low              Yes   \n",
       "\n",
       "  Work_Interest Social_Weakness mental_health_interviews  \n",
       "0         Maybe           Maybe                       No  "
      ]
     },
     "execution_count": 3,
     "metadata": {},
     "output_type": "execute_result"
    }
   ],
   "source": [
    "#Create new data\n",
    "df_inf = {'Timestamp' : '8/27/2014 14:45', \n",
    "        'Age' : 22, \n",
    "        'income' : 4906197,\n",
    "        'sleep duration' : 13, \n",
    "        'Gender' : 'Male', \n",
    "        'Country' : 'India', \n",
    "        'Occupation' : 'Business',\n",
    "        'self_employed' : 'Yes',\n",
    "        'family_history' : 'No', \n",
    "        'treatment' : 'No',\n",
    "        'Days_Indoors' : 'Go out Every day',   \n",
    "        'Growing_Stress' : 'No', \n",
    "        'Changes_Habits' : 'Yes', \n",
    "        'Mental_Health_History' : 'Yes',  \n",
    "        'Mood_Swings' : 'Low', \n",
    "        'Coping_Struggles' : 'Yes', \n",
    "        'Work_Interest' : 'Maybe', \n",
    "        'Social_Weakness' : 'Maybe',\n",
    "        'mental_health_interviews' : 'No'}\n",
    "\n",
    "# save to dataframe\n",
    "df_inf = pd.DataFrame([df_inf])\n",
    "df_inf"
   ]
  },
  {
   "cell_type": "markdown",
   "metadata": {},
   "source": [
    "## Making predictions"
   ]
  },
  {
   "cell_type": "code",
   "execution_count": 4,
   "metadata": {},
   "outputs": [
    {
     "name": "stdout",
     "output_type": "stream",
     "text": [
      "Yes, You Need Mental Health Care\n"
     ]
    }
   ],
   "source": [
    "# predict using linear regression\n",
    "y_pred_inf = model_lin.predict(df_inf)\n",
    "\n",
    "if y_pred_inf == 1:\n",
    "    print('Yes, You Need Mental Health Care')\n",
    "else:\n",
    "    print(\"No, You Don't Need Mental Health Care\")"
   ]
  }
 ],
 "metadata": {
  "kernelspec": {
   "display_name": "base",
   "language": "python",
   "name": "python3"
  },
  "language_info": {
   "codemirror_mode": {
    "name": "ipython",
    "version": 3
   },
   "file_extension": ".py",
   "mimetype": "text/x-python",
   "name": "python",
   "nbconvert_exporter": "python",
   "pygments_lexer": "ipython3",
   "version": "3.11.7"
  }
 },
 "nbformat": 4,
 "nbformat_minor": 2
}
